# 第一个单元格：导入库
import ipywidgets as widgets
from IPython.display import display, clear_output
import matplotlib.pyplot as plt
import numpy as np
from io import BytesIO
import base64

# 第二个单元格：定义邮票类
class DigitalStamp:
    def __init__(self, value, color, count=0):
        self.value = value
        self.color = color
        self.count = count
    
    def get_image_base64(self):
        """生成邮票的base64图像"""
        fig, ax = plt.subplots(1, 1, figsize=(2, 2))
        ax.add_patch(plt.Rectangle((0.1, 0.1), 0.8, 0.8, 
                                 facecolor=self.color, 
                                 edgecolor='white', 
                                 linewidth=3))
        ax.text(0.5, 0.5, str(self.value), 
               fontsize=20, ha='center', va='center', 
               color='white', weight='bold')
        ax.set_xlim(0, 1)
        ax.set_ylim(0, 1)
        ax.axis('off')
        
        # 转换为base64
        buffer = BytesIO()
        plt.savefig(buffer, format='png', bbox_inches='tight', dpi=100)
        plt.close(fig)
        buffer.seek(0)
        image_base64 = base64.b64encode(buffer.getvalue()).decode()
        return f"data:image/png;base64,{image_base64}"

# 第三个单元格：创建邮票游戏类
class StampGame:
    def __init__(self):
        self.stamps = {
            'units': DigitalStamp(1, '#00AA00'),    # 绿色 - 个位
            'tens': DigitalStamp(10, '#0000AA'),    # 蓝色 - 十位
            'hundreds': DigitalStamp(100, '#AA0000'), # 红色 - 百位
            'thousands': DigitalStamp(1000, '#AA00AA') # 紫色 - 千位
        }
        self.work_area = {key: 0 for key in self.stamps.keys()}
        self.current_problem = "123 + 456"
        self.correct_answer = 579
        self.user_answer = 0
        self.feedback = ""
        
        self.create_widgets()
    
    def create_widgets(self):
        """创建交互式控件"""
        # 邮票选择按钮
        self.stamp_buttons = {}
        for stamp_type, stamp in self.stamps.items():
            image_html = f'<img src="{stamp.get_image_base64()}" width="50" height="50">'
            button = widgets.Button(
                description=image_html,
                layout=widgets.Layout(width='70px', height='70px')
            )
            button.stamp_type = stamp_type
            button.on_click(self.add_stamp_to_work_area)
            self.stamp_buttons[stamp_type] = button
        
        # 工作区域显示
        self.work_area_display = widgets.HTML()
        self.update_work_area_display()
        
        # 控制按钮
        self.clear_button = widgets.Button(description="清空工作区", style={'button_color': '#AA0000'})
        self.clear_button.on_click(self.clear_work_area)
        
        self.calculate_button = widgets.Button(description="计算答案", style={'button_color': '#00AA00'})
        self.calculate_button.on_click(self.calculate_answer)
        
        self.new_problem_button = widgets.Button(description="新问题")
        self.new_problem_button.on_click(self.generate_new_problem)
        
        # 问题显示
        self.problem_display = widgets.HTML()
        self.update_problem_display()
        
        # 反馈显示
        self.feedback_display = widgets.HTML()
        
        # 自动进位开关
        self.auto_exchange_toggle = widgets.Checkbox(
            value=True,
            description='自动进位',
            disabled=False
        )
    
    def add_stamp_to_work_area(self, button):
        """添加邮票到工作区"""
        stamp_type = button.stamp_type
        self.work_area[stamp_type] += 1
        
        # 自动进位
        if self.auto_exchange_toggle.value:
            self.auto_exchange()
        
        self.update_work_area_display()
        self.calculate_current_value()
    
    def auto_exchange(self):
        """自动进位逻辑"""
        # 10个个位 -> 1个十位
        if self.work_area['units'] >= 10:
            self.work_area['units'] -= 10
            self.work_area['tens'] += 1
        
        # 10个十位 -> 1个百位
        if self.work_area['tens'] >= 10:
            self.work_area['tens'] -= 10
            self.work_area['hundreds'] += 1
        
        # 10个百位 -> 1个千位
        if self.work_area['hundreds'] >= 10:
            self.work_area['hundreds'] -= 10
            self.work_area['thousands'] += 1
    
    def clear_work_area(self, button):
        """清空工作区"""
        for key in self.work_area:
            self.work_area[key] = 0
        self.update_work_area_display()
        self.user_answer = 0
        self.feedback = "工作区已清空"
        self.update_feedback_display()
    
    def calculate_answer(self, button):
        """计算并检查答案"""
        self.calculate_current_value()
        
        if self.user_answer == self.correct_answer:
            self.feedback = f"<span style='color: green; font-weight: bold;'>✓ 正确！答案是 {self.correct_answer}</span>"
        else:
            self.feedback = f"<span style='color: red;'>✗ 不正确。你的答案: {self.user_answer}, 正确答案: {self.correct_answer}</span>"
        
        self.update_feedback_display()
    
    def calculate_current_value(self):
        """计算当前工作区的数值"""
        self.user_answer = (
            self.work_area['units'] * 1 +
            self.work_area['tens'] * 10 +
            self.work_area['hundreds'] * 100 +
            self.work_area['thousands'] * 1000
        )
    
    def generate_new_problem(self, button):
        """生成新的数学问题"""
        import random
        a = random.randint(100, 999)
        b = random.randint(100, 999)
        self.current_problem = f"{a} + {b}"
        self.correct_answer = a + b
        self.clear_work_area(button)
        self.update_problem_display()
        self.feedback = "新问题已生成！"
        self.update_feedback_display()
    
    def update_work_area_display(self):
        """更新工作区显示"""
        html = f"""
        <div style='border: 2px solid #666; padding: 10px; border-radius: 5px; background: #f9f9f9;'>
            <h3>工作区</h3>
            <div style='display: flex; justify-content: space-around;'>
        """
        
        for stamp_type, count in self.work_area.items():
            stamp = self.stamps[stamp_type]
            image_html = f'<img src="{stamp.get_image_base64()}" width="40" height="40">'
            html += f"""
                <div style='text-align: center; margin: 0 10px;'>
                    {image_html}
                    <div>× {count}</div>
                </div>
            """
        
        html += f"""
            </div>
            <div style='margin-top: 10px; font-weight: bold;'>
                当前数值: {self.user_answer}
            </div>
        </div>
        """
        self.work_area_display.value = html
    
    def update_problem_display(self):
        """更新问题显示"""
        self.problem_display.value = f"""
        <div style='background: #e0e0ff; padding: 10px; border-radius: 5px; margin: 10px 0;'>
            <h3>数学问题</h3>
            <div style='font-size: 24px; font-weight: bold; text-align: center;'>
                {self.current_problem} = ?
            </div>
        </div>
        """
    
    def update_feedback_display(self):
        """更新反馈显示"""
        self.feedback_display.value = f"""
        <div style='margin: 10px 0; padding: 10px; border-radius: 5px; background: #fff3cd;'>
            {self.feedback}
        </div>
        """
    
    def display(self):
        """显示整个游戏界面"""
        # 邮票选择区域
        stamp_selector = widgets.VBox([
            widgets.HTML("<h3>选择邮票:</h3>"),
            widgets.HBox(list(self.stamp_buttons.values()))
        ])
        
        # 控制面板
        control_panel = widgets.VBox([
            self.auto_exchange_toggle,
            widgets.HBox([self.clear_button, self.calculate_button, self.new_problem_button])
        ])
        
        # 主界面
        main_interface = widgets.VBox([
            self.problem_display,
            stamp_selector,
            self.work_area_display,
            control_panel,
            self.feedback_display
        ])
        
        display(main_interface)

# 最后一个单元格：启动游戏
game = StampGame()
game.display()